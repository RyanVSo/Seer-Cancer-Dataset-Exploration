{
  "cells": [
    {
      "cell_type": "markdown",
      "metadata": {
        "id": "Nt4bISOUABF0"
      },
      "source": [
        "# 1. Preprocessing\n",
        "Look through your data for outliers, perform standardization/normalization and handle missing values.  Use dimensionality reduction if your dataset has a lot of features.+"
      ]
    },
    {
      "cell_type": "code",
      "execution_count": 1,
      "metadata": {
        "id": "9Cfgn8LPABF2"
      },
      "outputs": [],
      "source": [
        "import pandas as pd\n",
        "from sklearn.preprocessing import StandardScaler, MinMaxScaler\n",
        "from sklearn.impute import SimpleImputer\n",
        "from sklearn.decomposition import PCA"
      ]
    },
    {
      "cell_type": "code",
      "source": [
        "from google.colab import drive\n",
        "drive.mount('/content/drive')\n",
        "\n",
        "path = '/content/drive/MyDrive/Spring-2024/Big Data Science/hw5/Breast_Cancer_dataset.csv'"
      ],
      "metadata": {
        "colab": {
          "base_uri": "https://localhost:8080/"
        },
        "id": "79cN3rxsAfpX",
        "outputId": "5a38799d-428e-4cbd-e559-bf26e39e532e"
      },
      "execution_count": 3,
      "outputs": [
        {
          "output_type": "stream",
          "name": "stdout",
          "text": [
            "Mounted at /content/drive\n"
          ]
        }
      ]
    },
    {
      "cell_type": "code",
      "execution_count": 48,
      "metadata": {
        "colab": {
          "base_uri": "https://localhost:8080/"
        },
        "id": "HxczVmTzABF3",
        "outputId": "9e58026f-6384-46b1-9ff5-183a5fd97233"
      },
      "outputs": [
        {
          "output_type": "stream",
          "name": "stdout",
          "text": [
            "4024\n",
            "Number of outliers: 224\n",
            "<class 'pandas.core.frame.DataFrame'>\n",
            "RangeIndex: 3813 entries, 0 to 3812\n",
            "Data columns (total 16 columns):\n",
            " #   Column                  Non-Null Count  Dtype  \n",
            "---  ------                  --------------  -----  \n",
            " 0   Age                     3813 non-null   float64\n",
            " 1   Race                    3813 non-null   object \n",
            " 2   Marital Status          3813 non-null   object \n",
            " 3   T Stage                 3813 non-null   object \n",
            " 4   N Stage                 3813 non-null   object \n",
            " 5   6th Stage               3813 non-null   object \n",
            " 6   differentiate           3813 non-null   object \n",
            " 7   Grade                   3813 non-null   object \n",
            " 8   A Stage                 3813 non-null   object \n",
            " 9   Tumor Size              3813 non-null   float64\n",
            " 10  Estrogen Status         3813 non-null   object \n",
            " 11  Progesterone Status     3813 non-null   object \n",
            " 12  Regional Node Examined  3813 non-null   float64\n",
            " 13  Reginol Node Positive   3813 non-null   float64\n",
            " 14  Survival Months         3813 non-null   float64\n",
            " 15  Status                  3813 non-null   object \n",
            "dtypes: float64(5), object(11)\n",
            "memory usage: 476.8+ KB\n"
          ]
        }
      ],
      "source": [
        "# Read the CSV file\n",
        "df = pd.read_csv(path)\n",
        "\n",
        "print(len(df))\n",
        "\n",
        "numerical_columns = df.select_dtypes(include=['int64', 'float64'])\n",
        "\n",
        "# Calculate z-scores for numerical columns\n",
        "z_scores = (numerical_columns - numerical_columns.mean()) / numerical_columns.std()\n",
        "\n",
        "# Identify outliers\n",
        "outliers = (z_scores > 3) | (z_scores < -3)\n",
        "\n",
        "# Count number of outliers\n",
        "num_outliers = outliers.sum().sum()\n",
        "print(f\"Number of outliers: {num_outliers}\")\n",
        "\n",
        "# Replace outliers with None\n",
        "df = df[~outliers.any(axis=1)]\n",
        "\n",
        "df.reset_index(drop=True, inplace=True)\n",
        "\n",
        "# Handle Missing Values\n",
        "imputer = SimpleImputer(strategy='mean')\n",
        "numerical_columns = df.select_dtypes(include=['int64', 'float64'])\n",
        "numerical_columns_imputed = imputer.fit_transform(numerical_columns)\n",
        "\n",
        "# Standardization/Normalization\n",
        "scaler = StandardScaler()  # or MinMaxScaler for normalization\n",
        "numerical_columns_scaled = scaler.fit_transform(numerical_columns_imputed)\n",
        "\n",
        "# Replace numerical columns in the original DataFrame with processed numerical columns\n",
        "df[numerical_columns.columns] = numerical_columns_scaled\n",
        "\n",
        "\n",
        "df.info()"
      ]
    },
    {
      "cell_type": "markdown",
      "metadata": {
        "id": "btYn_DkYABF4"
      },
      "source": [
        "# 2. Modeling [15] – For this step you can use tools and/or libraries\n",
        "Apply the Feature Selection and Feature Ranking Techniques we covered in class and/or a combination of both approaches.\n",
        "Train the following algorithms on your dataset (feel free to experiment with more!)\n",
        "\n",
        "NOTE: For each model used, be sure to include a 1-2 line summary as well as the pros and cons of each algorithm and list out its main hyperparameters.\n"
      ]
    },
    {
      "cell_type": "markdown",
      "source": [
        "## Feature Selection"
      ],
      "metadata": {
        "id": "_TPSmEWYFSyn"
      }
    },
    {
      "cell_type": "code",
      "source": [
        "from sklearn.feature_selection import SelectKBest, mutual_info_classif\n",
        "\n",
        "df_encoded = pd.get_dummies(df)\n",
        "\n",
        "X = df_encoded.iloc[:,0:15]  #independent columns\n",
        "Y = df_encoded.iloc[:,-1]    #target column\n",
        "print(Y)\n",
        "\n",
        "# Apply SelectKBest class to extract top 10 best features\n",
        "bestfeatures = SelectKBest(score_func=mutual_info_classif, k=10)\n",
        "fit = bestfeatures.fit(X,Y)\n",
        "\n",
        "dfscores = pd.DataFrame(fit.scores_)\n",
        "dfcolumns = pd.DataFrame(X.columns)\n",
        "\n",
        "# Concat two dataframes for better visualization\n",
        "featureScores = pd.concat([dfcolumns,dfscores],axis=1)\n",
        "featureScores.columns = ['Specs','Score']  # Naming the dataframe columns\n",
        "\n",
        "top_10_features = featureScores.nlargest(10,'Score')  # Get 10 best features\n",
        "print(top_10_features)\n",
        "\n",
        "# Create a new dataframe with only the top 10 features\n",
        "df_top_10 = df_encoded[top_10_features['Specs'].values]\n"
      ],
      "metadata": {
        "colab": {
          "base_uri": "https://localhost:8080/"
        },
        "outputId": "0c3df618-854f-41b7-d1b0-671796dcea31",
        "id": "rTJed10uFSy4"
      },
      "execution_count": 49,
      "outputs": [
        {
          "output_type": "stream",
          "name": "stdout",
          "text": [
            "0       False\n",
            "1       False\n",
            "2       False\n",
            "3       False\n",
            "4       False\n",
            "        ...  \n",
            "3808    False\n",
            "3809    False\n",
            "3810    False\n",
            "3811    False\n",
            "3812    False\n",
            "Name: Status_Dead, Length: 3813, dtype: bool\n",
            "                       Specs     Score\n",
            "4            Survival Months  0.126997\n",
            "3      Reginol Node Positive  0.020227\n",
            "1                 Tumor Size  0.016960\n",
            "13               T Stage _T1  0.008197\n",
            "5                 Race_Black  0.007908\n",
            "8    Marital Status_Divorced  0.006258\n",
            "9     Marital Status_Married  0.002490\n",
            "2     Regional Node Examined  0.002370\n",
            "12    Marital Status_Widowed  0.002085\n",
            "10  Marital Status_Separated  0.001548\n"
          ]
        }
      ]
    },
    {
      "cell_type": "markdown",
      "metadata": {
        "id": "CS2wYzIyABF4"
      },
      "source": [
        "# 2.1\tKNN (this should be implemented from scratch, do NOT use in-built libraries)"
      ]
    },
    {
      "cell_type": "code",
      "source": [
        "import numpy as np\n",
        "\n",
        "class KNN:\n",
        "    def __init__(self, k=3):\n",
        "        self.k = k\n",
        "\n",
        "    def fit(self, X, y):\n",
        "        self.X_train = X\n",
        "        self.y_train = y\n",
        "\n",
        "    def predict(self, X):\n",
        "        predicted_labels = [self._predict(x) for x in X]\n",
        "        return np.array(predicted_labels)\n",
        "\n",
        "    def _predict(self, x):\n",
        "        # Compute distances between x and all examples in the training set\n",
        "        distances = [np.linalg.norm(x - x_train) for x_train in self.X_train]\n",
        "        # Sort by distance and return indices of the first k neighbors\n",
        "        k_indices = np.argsort(distances)[:self.k]\n",
        "        # Extract the labels of the k nearest neighbor training samples\n",
        "        k_nearest_labels = [self.y_train[i] for i in k_indices]\n",
        "        # return the most common class label\n",
        "        most_common = max(set(k_nearest_labels), key=k_nearest_labels.count)\n",
        "        return most_common\n"
      ],
      "metadata": {
        "id": "jCr6skyNBvM-"
      },
      "execution_count": 58,
      "outputs": []
    },
    {
      "cell_type": "code",
      "source": [
        "for col in df_top_10.columns:\n",
        "    if df_top_10[col].dtype == bool:\n",
        "        df_top_10[col] = df_top_10[col].astype(int)\n",
        "\n",
        "Y = Y.astype(int)\n",
        "\n",
        "X_train, X_test, y_train, y_test = train_test_split(df_top_10, Y, test_size=0.2, random_state=42)\n",
        "\n",
        "# Create an instance of KNN\n",
        "knn = KNN(k=3)\n",
        "\n",
        "# Fit the model to the training data\n",
        "knn.fit(X_train.values, y_train.values)\n",
        "\n",
        "# Make predictions on the test data\n",
        "predictions = knn.predict(X_test.values)"
      ],
      "metadata": {
        "id": "rJkYif5PGEO4"
      },
      "execution_count": 60,
      "outputs": []
    },
    {
      "cell_type": "code",
      "source": [
        "def accuracy(y_true, y_pred):\n",
        "    return np.sum(y_true == y_pred) / len(y_true)\n",
        "\n",
        "print(f'Accuracy: {accuracy(y_test, predictions)*100:.2f}%')"
      ],
      "metadata": {
        "colab": {
          "base_uri": "https://localhost:8080/"
        },
        "id": "eJMAW6Z8LP1W",
        "outputId": "ce0997db-ace7-4eed-8718-1ec1ea081c83"
      },
      "execution_count": 62,
      "outputs": [
        {
          "output_type": "stream",
          "name": "stdout",
          "text": [
            "Accuracy: 88.47%\n"
          ]
        }
      ]
    },
    {
      "cell_type": "markdown",
      "source": [
        " Pros and Cons: KNN is simple to understand and implement, and it doesn’t require any training phase. However, it can be computationally expensive and slow for large datasets, and its performance can be significantly impacted by the choice of the distance metric and the value of K.\n",
        "\n",
        " Main Hyperparameters: K"
      ],
      "metadata": {
        "id": "dUOr2qCfR8tf"
      }
    },
    {
      "cell_type": "markdown",
      "metadata": {
        "id": "IETo0opeABF5"
      },
      "source": [
        "# 2.2 Naïve Bayes"
      ]
    },
    {
      "cell_type": "code",
      "execution_count": 26,
      "metadata": {
        "colab": {
          "base_uri": "https://localhost:8080/"
        },
        "id": "FPJzz9PjABF6",
        "outputId": "176f3a06-9300-473c-98f7-54df605ee81e"
      },
      "outputs": [
        {
          "output_type": "stream",
          "name": "stdout",
          "text": [
            "Accuracy: 0.8768020969855832\n"
          ]
        },
        {
          "output_type": "stream",
          "name": "stderr",
          "text": [
            "<ipython-input-26-f4082e81989e>:20: SettingWithCopyWarning: \n",
            "A value is trying to be set on a copy of a slice from a DataFrame\n",
            "\n",
            "See the caveats in the documentation: https://pandas.pydata.org/pandas-docs/stable/user_guide/indexing.html#returning-a-view-versus-a-copy\n",
            "  X.drop(categorical_cols, axis=1, inplace=True)\n"
          ]
        }
      ],
      "source": [
        "import pandas as pd\n",
        "from sklearn.model_selection import train_test_split\n",
        "from sklearn.naive_bayes import CategoricalNB\n",
        "from sklearn.naive_bayes import GaussianNB\n",
        "from sklearn.metrics import accuracy_score\n",
        "from sklearn.preprocessing import OneHotEncoder\n",
        "\n",
        "\n",
        "#X = df.drop('Status', axis=1)  # Feature columns\n",
        "#y = Y\n",
        "X = df_top_10\n",
        "y = Y\n",
        "\n",
        "\n",
        "categorical_cols = X.select_dtypes(include=['object']).columns\n",
        "encoder = OneHotEncoder(drop='first', sparse_output=False)  # Drop first category to avoid multicollinearity\n",
        "X_encoded = pd.DataFrame(encoder.fit_transform(X[categorical_cols]))\n",
        "X_encoded.columns = encoder.get_feature_names_out(categorical_cols)\n",
        "X.drop(categorical_cols, axis=1, inplace=True)\n",
        "X = pd.concat([X, X_encoded], axis=1)\n",
        "\n",
        "# Split the data into training and testing sets\n",
        "X_train, X_test, y_train, y_test = train_test_split(X, y, test_size=0.2, random_state=42)\n",
        "\n",
        "# Initialize the Naive Bayes classifier (assuming the feature column is categorical)\n",
        "nb_classifier = GaussianNB()\n",
        "\n",
        "# Train the classifier\n",
        "nb_classifier.fit(X_train, y_train)\n",
        "\n",
        "# Predict on the test set\n",
        "y_pred = nb_classifier.predict(X_test)\n",
        "\n",
        "# Calculate accuracy\n",
        "accuracy = accuracy_score(y_test, y_pred)\n",
        "print(f\"Accuracy: {accuracy}\")"
      ]
    },
    {
      "cell_type": "markdown",
      "source": [
        "Pros and Cons: Naive Bayes is fast, easy to implement, and performs well with high-dimensional datasets. However, its assumption of feature independence is often violated in real-world data, which can negatively impact its performance.\n",
        "\n",
        "Main Hyperparameters: Alpha"
      ],
      "metadata": {
        "id": "VGjppUf5SLrm"
      }
    },
    {
      "cell_type": "markdown",
      "metadata": {
        "id": "p3wcqIaKABF6"
      },
      "source": [
        "# 2.3 C4.5 Decision Tree"
      ]
    },
    {
      "cell_type": "code",
      "source": [
        "pip install c45-decision-tree"
      ],
      "metadata": {
        "colab": {
          "base_uri": "https://localhost:8080/"
        },
        "id": "bu-siUnnOAfN",
        "outputId": "3881ad85-f325-4208-91c8-45441b5f3da4"
      },
      "execution_count": 69,
      "outputs": [
        {
          "output_type": "stream",
          "name": "stdout",
          "text": [
            "Collecting c45-decision-tree\n",
            "  Downloading c45_decision_tree-1.0.2-py3-none-any.whl (5.8 kB)\n",
            "Installing collected packages: c45-decision-tree\n",
            "Successfully installed c45-decision-tree-1.0.2\n"
          ]
        }
      ]
    },
    {
      "cell_type": "code",
      "source": [
        "from C45 import C45Classifier\n",
        "import pandas as pd\n",
        "\n",
        "X_train, X_test, y_train, y_test = train_test_split(df_top_10, Y, test_size=0.2, random_state=42)\n",
        "model = C45Classifier()\n",
        "model.fit(X_train, y_train)\n",
        "model.evaluate(X_test, y_test)"
      ],
      "metadata": {
        "colab": {
          "base_uri": "https://localhost:8080/"
        },
        "id": "dxnKgPNLOHHm",
        "outputId": "1dfd23cb-68bb-4718-ec3f-0d737d568050"
      },
      "execution_count": 82,
      "outputs": [
        {
          "output_type": "stream",
          "name": "stdout",
          "text": [
            "Evaluation result: \n",
            "Total accuracy:  0.7352555701179554\n",
            "Accuracy  0 :  0.746177370030581\n",
            "Accuracy  1 :  0.6697247706422018\n"
          ]
        }
      ]
    },
    {
      "cell_type": "markdown",
      "source": [
        "Pros and Cons:  C4.5 can handle both categorical and continuous data, and it uses a post-pruning approach to avoid overfitting. However, it can be sensitive to small changes in the data, leading to different trees, and it may not perform well with unbalanced datasets.\n",
        "\n",
        "Main Hyperparameter: Criterion and max_depth"
      ],
      "metadata": {
        "id": "PGFEtubwSegI"
      }
    },
    {
      "cell_type": "markdown",
      "metadata": {
        "id": "ArJIK3zeABF6"
      },
      "source": [
        "# 2.4 Random Forest"
      ]
    },
    {
      "cell_type": "code",
      "source": [
        "from sklearn.ensemble import RandomForestClassifier\n",
        "from sklearn.model_selection import train_test_split\n",
        "\n",
        "X = df_top_10.values\n",
        "y = Y.values\n",
        "\n",
        "# Split the data into training and testing sets\n",
        "X_train, X_test, y_train, y_test = train_test_split(X, y, test_size=0.2, random_state=42)\n",
        "\n",
        "# Create a random forest classifier and fit it to the training data\n",
        "clf = RandomForestClassifier(n_estimators=100, random_state=42)\n",
        "clf.fit(X_train, y_train)\n",
        "\n",
        "# Predict on the test data\n",
        "y_pred = clf.predict(X_test)\n",
        "\n",
        "# Print the accuracy\n",
        "print(f'Accuracy: {accuracy(y_test, y_pred)*100:.2f}%')\n"
      ],
      "metadata": {
        "colab": {
          "base_uri": "https://localhost:8080/"
        },
        "id": "cyJiJzk2PI4r",
        "outputId": "cf54a74a-e41d-4540-9ce5-825dfa0430d5"
      },
      "execution_count": 79,
      "outputs": [
        {
          "output_type": "stream",
          "name": "stdout",
          "text": [
            "Accuracy: 89.91%\n"
          ]
        }
      ]
    },
    {
      "cell_type": "markdown",
      "source": [
        "Pros and Cons: Random Forest is robust to overfitting and can handle large datasets with high dimensionality. However, it can be computationally intensive and slower to train and predict than simpler models, and it may not perform well with very sparse data or datasets with many categorical variables.\n",
        "\n",
        "Main Hyperparameters: n_estimators, criterion, max_depth"
      ],
      "metadata": {
        "id": "Cnca4Nq6SqXV"
      }
    },
    {
      "cell_type": "markdown",
      "metadata": {
        "id": "9cC9mkSeABF7"
      },
      "source": [
        "# 2.5 Gradient Boosting"
      ]
    },
    {
      "cell_type": "code",
      "execution_count": 80,
      "metadata": {
        "colab": {
          "base_uri": "https://localhost:8080/"
        },
        "id": "a4WfIF9UABF7",
        "outputId": "c4942194-0d94-42ef-d706-7c4e0e24f4d6"
      },
      "outputs": [
        {
          "output_type": "stream",
          "name": "stdout",
          "text": [
            "Accuracy: 90.43%\n"
          ]
        }
      ],
      "source": [
        "from sklearn.ensemble import GradientBoostingClassifier\n",
        "from sklearn.model_selection import train_test_split\n",
        "\n",
        "X = df_top_10.values\n",
        "y = Y.values\n",
        "\n",
        "# Split the data into training and testing sets\n",
        "X_train, X_test, y_train, y_test = train_test_split(X, y, test_size=0.2, random_state=42)\n",
        "\n",
        "# Create a gradient boosting classifier and fit it to the training data\n",
        "clf = GradientBoostingClassifier(n_estimators=100, learning_rate=1.0, max_depth=1, random_state=42)\n",
        "clf.fit(X_train, y_train)\n",
        "\n",
        "# Predict on the test data\n",
        "y_pred = clf.predict(X_test)\n",
        "\n",
        "# Print the accuracy\n",
        "print(f'Accuracy: {accuracy(y_test, y_pred)*100:.2f}%')"
      ]
    },
    {
      "cell_type": "markdown",
      "source": [
        "Pros and Cons: Gradient Boosting can provide high predictive accuracy and is effective with unbalanced datasets. However, it can be prone to overfitting if not properly regularized, and it can be more computationally intensive and slower to train than other models.\n",
        "\n",
        "Main Hyperparameter: n_estimators, learning_rate, max_depth"
      ],
      "metadata": {
        "id": "HNyc5nrASyqU"
      }
    },
    {
      "cell_type": "markdown",
      "source": [
        "# 3 Hyperparameter Tuning"
      ],
      "metadata": {
        "id": "1-cIfpnSP5x9"
      }
    },
    {
      "cell_type": "code",
      "source": [
        "from sklearn.ensemble import RandomForestClassifier, GradientBoostingClassifier\n",
        "from sklearn.model_selection import GridSearchCV, train_test_split\n",
        "from sklearn.metrics import classification_report\n",
        "\n",
        "X = df_top_10.values\n",
        "y = Y.values\n",
        "\n",
        "# Split the data into training and testing sets\n",
        "X_train, X_test, y_train, y_test = train_test_split(X, y, test_size=0.2, random_state=42)\n",
        "\n",
        "# Define the parameter grid for RandomForestClassifier\n",
        "param_grid_rf = {\n",
        "    'n_estimators': [50, 100, 200],\n",
        "    'criterion': ['gini', 'entropy'],\n",
        "    'max_depth': [None, 10, 20, 30],\n",
        "    'min_samples_split': [2, 5, 10]\n",
        "}\n",
        "\n",
        "# Create a RandomForestClassifier\n",
        "rf = RandomForestClassifier(random_state=42)\n",
        "\n",
        "# Create the GridSearchCV object for RandomForestClassifier\n",
        "grid_search_rf = GridSearchCV(estimator=rf, param_grid=param_grid_rf, cv=5)\n",
        "\n",
        "# Fit the GridSearchCV object to the data\n",
        "grid_search_rf.fit(X_train, y_train)\n",
        "\n",
        "# Print the best parameters and the corresponding score\n",
        "print(\"Best parameters for RandomForestClassifier: \", grid_search_rf.best_params_)\n",
        "print(\"Best score for RandomForestClassifier: \", grid_search_rf.best_score_)\n",
        "\n",
        "# Predict on the test data and print the performance metrics\n",
        "y_pred_rf = grid_search_rf.predict(X_test)\n",
        "print(\"Performance metrics for RandomForestClassifier:\")\n",
        "print(classification_report(y_test, y_pred_rf))\n",
        "\n",
        "# Define the parameter grid for GradientBoostingClassifier\n",
        "param_grid_gb = {\n",
        "    'n_estimators': [50, 100, 200],\n",
        "    'learning_rate': [0.01, 0.1, 1.0],\n",
        "    'max_depth': [1, 3, 5]\n",
        "}\n",
        "\n",
        "# Create a GradientBoostingClassifier\n",
        "gb = GradientBoostingClassifier(random_state=42)\n",
        "\n",
        "# Create the GridSearchCV object for GradientBoostingClassifier\n",
        "grid_search_gb = GridSearchCV(estimator=gb, param_grid=param_grid_gb, cv=5)\n",
        "\n",
        "# Fit the GridSearchCV object to the data\n",
        "grid_search_gb.fit(X_train, y_train)\n",
        "\n",
        "# Print the best parameters and the corresponding score\n",
        "print(\"Best parameters for GradientBoostingClassifier: \", grid_search_gb.best_params_)\n",
        "print(\"Best score for GradientBoostingClassifier: \", grid_search_gb.best_score_)\n",
        "\n",
        "# Predict on the test data and print the performance metrics\n",
        "y_pred_gb = grid_search_gb.predict(X_test)\n",
        "print(\"Performance metrics for GradientBoostingClassifier:\")\n",
        "print(classification_report(y_test, y_pred_gb))\n"
      ],
      "metadata": {
        "colab": {
          "base_uri": "https://localhost:8080/"
        },
        "id": "OT30Ww6KQ1f1",
        "outputId": "326be7b9-e820-41a3-e529-17d23e83068b"
      },
      "execution_count": 81,
      "outputs": [
        {
          "output_type": "stream",
          "name": "stdout",
          "text": [
            "Best parameters for RandomForestClassifier:  {'criterion': 'entropy', 'max_depth': 10, 'min_samples_split': 5, 'n_estimators': 100}\n",
            "Best score for RandomForestClassifier:  0.9036065573770491\n",
            "Performance metrics for RandomForestClassifier:\n",
            "              precision    recall  f1-score   support\n",
            "\n",
            "           0       0.92      0.98      0.95       654\n",
            "           1       0.77      0.50      0.61       109\n",
            "\n",
            "    accuracy                           0.91       763\n",
            "   macro avg       0.85      0.74      0.78       763\n",
            "weighted avg       0.90      0.91      0.90       763\n",
            "\n",
            "Best parameters for GradientBoostingClassifier:  {'learning_rate': 0.1, 'max_depth': 1, 'n_estimators': 200}\n",
            "Best score for GradientBoostingClassifier:  0.9022950819672131\n",
            "Performance metrics for GradientBoostingClassifier:\n",
            "              precision    recall  f1-score   support\n",
            "\n",
            "           0       0.92      0.97      0.94       654\n",
            "           1       0.73      0.51      0.60       109\n",
            "\n",
            "    accuracy                           0.90       763\n",
            "   macro avg       0.83      0.74      0.77       763\n",
            "weighted avg       0.89      0.90      0.90       763\n",
            "\n"
          ]
        }
      ]
    },
    {
      "cell_type": "markdown",
      "source": [
        "Hyperparameter Tuning Results:\n",
        "\n",
        "Best parameters for RandomForestClassifier:  {'criterion': 'entropy', 'max_depth': 10, 'min_samples_split': 5, 'n_estimators': 100}\n",
        "\n",
        "Best score for RandomForestClassifier:  0.9036065573770491\n",
        "\n",
        "Best parameters for GradientBoostingClassifier:  {'learning_rate': 0.1, 'max_depth': 1, 'n_estimators': 200}\n",
        "\n",
        "Best score for GradientBoostingClassifier:  0.9022950819672131\n"
      ],
      "metadata": {
        "id": "T_d4tBPSWVHy"
      }
    },
    {
      "cell_type": "markdown",
      "source": [
        "# Results"
      ],
      "metadata": {
        "id": "LMvyLvRDREDA"
      }
    },
    {
      "cell_type": "code",
      "source": [
        "results = {\n",
        "    'Algorithm Name': ['KNN', 'Naive Bayes', 'C4.5', 'Random Forest', 'Gradient Boosting'],\n",
        "    'Accuracies': ['88.74%', '87.68%', '73.54%', '89.91%', '90.43%']\n",
        "}\n",
        "\n",
        "# Create the DataFrame\n",
        "results = pd.DataFrame(results)\n",
        "results"
      ],
      "metadata": {
        "colab": {
          "base_uri": "https://localhost:8080/",
          "height": 206
        },
        "id": "gG_ZPXh_RIzF",
        "outputId": "f9c918af-aaed-4b2f-bd7c-aaa989010d3b"
      },
      "execution_count": 84,
      "outputs": [
        {
          "output_type": "execute_result",
          "data": {
            "text/plain": [
              "      Algorithm Name Accuracies\n",
              "0                KNN     88.74%\n",
              "1        Naive Bayes     87.68%\n",
              "2               C4.5     73.54%\n",
              "3      Random Forest     89.91%\n",
              "4  Gradient Boosting     90.43%"
            ],
            "text/html": [
              "\n",
              "  <div id=\"df-e4dcbeb3-6811-4fdb-aed9-fc0e7bb72f37\" class=\"colab-df-container\">\n",
              "    <div>\n",
              "<style scoped>\n",
              "    .dataframe tbody tr th:only-of-type {\n",
              "        vertical-align: middle;\n",
              "    }\n",
              "\n",
              "    .dataframe tbody tr th {\n",
              "        vertical-align: top;\n",
              "    }\n",
              "\n",
              "    .dataframe thead th {\n",
              "        text-align: right;\n",
              "    }\n",
              "</style>\n",
              "<table border=\"1\" class=\"dataframe\">\n",
              "  <thead>\n",
              "    <tr style=\"text-align: right;\">\n",
              "      <th></th>\n",
              "      <th>Algorithm Name</th>\n",
              "      <th>Accuracies</th>\n",
              "    </tr>\n",
              "  </thead>\n",
              "  <tbody>\n",
              "    <tr>\n",
              "      <th>0</th>\n",
              "      <td>KNN</td>\n",
              "      <td>88.74%</td>\n",
              "    </tr>\n",
              "    <tr>\n",
              "      <th>1</th>\n",
              "      <td>Naive Bayes</td>\n",
              "      <td>87.68%</td>\n",
              "    </tr>\n",
              "    <tr>\n",
              "      <th>2</th>\n",
              "      <td>C4.5</td>\n",
              "      <td>73.54%</td>\n",
              "    </tr>\n",
              "    <tr>\n",
              "      <th>3</th>\n",
              "      <td>Random Forest</td>\n",
              "      <td>89.91%</td>\n",
              "    </tr>\n",
              "    <tr>\n",
              "      <th>4</th>\n",
              "      <td>Gradient Boosting</td>\n",
              "      <td>90.43%</td>\n",
              "    </tr>\n",
              "  </tbody>\n",
              "</table>\n",
              "</div>\n",
              "    <div class=\"colab-df-buttons\">\n",
              "\n",
              "  <div class=\"colab-df-container\">\n",
              "    <button class=\"colab-df-convert\" onclick=\"convertToInteractive('df-e4dcbeb3-6811-4fdb-aed9-fc0e7bb72f37')\"\n",
              "            title=\"Convert this dataframe to an interactive table.\"\n",
              "            style=\"display:none;\">\n",
              "\n",
              "  <svg xmlns=\"http://www.w3.org/2000/svg\" height=\"24px\" viewBox=\"0 -960 960 960\">\n",
              "    <path d=\"M120-120v-720h720v720H120Zm60-500h600v-160H180v160Zm220 220h160v-160H400v160Zm0 220h160v-160H400v160ZM180-400h160v-160H180v160Zm440 0h160v-160H620v160ZM180-180h160v-160H180v160Zm440 0h160v-160H620v160Z\"/>\n",
              "  </svg>\n",
              "    </button>\n",
              "\n",
              "  <style>\n",
              "    .colab-df-container {\n",
              "      display:flex;\n",
              "      gap: 12px;\n",
              "    }\n",
              "\n",
              "    .colab-df-convert {\n",
              "      background-color: #E8F0FE;\n",
              "      border: none;\n",
              "      border-radius: 50%;\n",
              "      cursor: pointer;\n",
              "      display: none;\n",
              "      fill: #1967D2;\n",
              "      height: 32px;\n",
              "      padding: 0 0 0 0;\n",
              "      width: 32px;\n",
              "    }\n",
              "\n",
              "    .colab-df-convert:hover {\n",
              "      background-color: #E2EBFA;\n",
              "      box-shadow: 0px 1px 2px rgba(60, 64, 67, 0.3), 0px 1px 3px 1px rgba(60, 64, 67, 0.15);\n",
              "      fill: #174EA6;\n",
              "    }\n",
              "\n",
              "    .colab-df-buttons div {\n",
              "      margin-bottom: 4px;\n",
              "    }\n",
              "\n",
              "    [theme=dark] .colab-df-convert {\n",
              "      background-color: #3B4455;\n",
              "      fill: #D2E3FC;\n",
              "    }\n",
              "\n",
              "    [theme=dark] .colab-df-convert:hover {\n",
              "      background-color: #434B5C;\n",
              "      box-shadow: 0px 1px 3px 1px rgba(0, 0, 0, 0.15);\n",
              "      filter: drop-shadow(0px 1px 2px rgba(0, 0, 0, 0.3));\n",
              "      fill: #FFFFFF;\n",
              "    }\n",
              "  </style>\n",
              "\n",
              "    <script>\n",
              "      const buttonEl =\n",
              "        document.querySelector('#df-e4dcbeb3-6811-4fdb-aed9-fc0e7bb72f37 button.colab-df-convert');\n",
              "      buttonEl.style.display =\n",
              "        google.colab.kernel.accessAllowed ? 'block' : 'none';\n",
              "\n",
              "      async function convertToInteractive(key) {\n",
              "        const element = document.querySelector('#df-e4dcbeb3-6811-4fdb-aed9-fc0e7bb72f37');\n",
              "        const dataTable =\n",
              "          await google.colab.kernel.invokeFunction('convertToInteractive',\n",
              "                                                    [key], {});\n",
              "        if (!dataTable) return;\n",
              "\n",
              "        const docLinkHtml = 'Like what you see? Visit the ' +\n",
              "          '<a target=\"_blank\" href=https://colab.research.google.com/notebooks/data_table.ipynb>data table notebook</a>'\n",
              "          + ' to learn more about interactive tables.';\n",
              "        element.innerHTML = '';\n",
              "        dataTable['output_type'] = 'display_data';\n",
              "        await google.colab.output.renderOutput(dataTable, element);\n",
              "        const docLink = document.createElement('div');\n",
              "        docLink.innerHTML = docLinkHtml;\n",
              "        element.appendChild(docLink);\n",
              "      }\n",
              "    </script>\n",
              "  </div>\n",
              "\n",
              "\n",
              "<div id=\"df-36cb761c-9a1a-4272-ad1f-08ea28762b7a\">\n",
              "  <button class=\"colab-df-quickchart\" onclick=\"quickchart('df-36cb761c-9a1a-4272-ad1f-08ea28762b7a')\"\n",
              "            title=\"Suggest charts\"\n",
              "            style=\"display:none;\">\n",
              "\n",
              "<svg xmlns=\"http://www.w3.org/2000/svg\" height=\"24px\"viewBox=\"0 0 24 24\"\n",
              "     width=\"24px\">\n",
              "    <g>\n",
              "        <path d=\"M19 3H5c-1.1 0-2 .9-2 2v14c0 1.1.9 2 2 2h14c1.1 0 2-.9 2-2V5c0-1.1-.9-2-2-2zM9 17H7v-7h2v7zm4 0h-2V7h2v10zm4 0h-2v-4h2v4z\"/>\n",
              "    </g>\n",
              "</svg>\n",
              "  </button>\n",
              "\n",
              "<style>\n",
              "  .colab-df-quickchart {\n",
              "      --bg-color: #E8F0FE;\n",
              "      --fill-color: #1967D2;\n",
              "      --hover-bg-color: #E2EBFA;\n",
              "      --hover-fill-color: #174EA6;\n",
              "      --disabled-fill-color: #AAA;\n",
              "      --disabled-bg-color: #DDD;\n",
              "  }\n",
              "\n",
              "  [theme=dark] .colab-df-quickchart {\n",
              "      --bg-color: #3B4455;\n",
              "      --fill-color: #D2E3FC;\n",
              "      --hover-bg-color: #434B5C;\n",
              "      --hover-fill-color: #FFFFFF;\n",
              "      --disabled-bg-color: #3B4455;\n",
              "      --disabled-fill-color: #666;\n",
              "  }\n",
              "\n",
              "  .colab-df-quickchart {\n",
              "    background-color: var(--bg-color);\n",
              "    border: none;\n",
              "    border-radius: 50%;\n",
              "    cursor: pointer;\n",
              "    display: none;\n",
              "    fill: var(--fill-color);\n",
              "    height: 32px;\n",
              "    padding: 0;\n",
              "    width: 32px;\n",
              "  }\n",
              "\n",
              "  .colab-df-quickchart:hover {\n",
              "    background-color: var(--hover-bg-color);\n",
              "    box-shadow: 0 1px 2px rgba(60, 64, 67, 0.3), 0 1px 3px 1px rgba(60, 64, 67, 0.15);\n",
              "    fill: var(--button-hover-fill-color);\n",
              "  }\n",
              "\n",
              "  .colab-df-quickchart-complete:disabled,\n",
              "  .colab-df-quickchart-complete:disabled:hover {\n",
              "    background-color: var(--disabled-bg-color);\n",
              "    fill: var(--disabled-fill-color);\n",
              "    box-shadow: none;\n",
              "  }\n",
              "\n",
              "  .colab-df-spinner {\n",
              "    border: 2px solid var(--fill-color);\n",
              "    border-color: transparent;\n",
              "    border-bottom-color: var(--fill-color);\n",
              "    animation:\n",
              "      spin 1s steps(1) infinite;\n",
              "  }\n",
              "\n",
              "  @keyframes spin {\n",
              "    0% {\n",
              "      border-color: transparent;\n",
              "      border-bottom-color: var(--fill-color);\n",
              "      border-left-color: var(--fill-color);\n",
              "    }\n",
              "    20% {\n",
              "      border-color: transparent;\n",
              "      border-left-color: var(--fill-color);\n",
              "      border-top-color: var(--fill-color);\n",
              "    }\n",
              "    30% {\n",
              "      border-color: transparent;\n",
              "      border-left-color: var(--fill-color);\n",
              "      border-top-color: var(--fill-color);\n",
              "      border-right-color: var(--fill-color);\n",
              "    }\n",
              "    40% {\n",
              "      border-color: transparent;\n",
              "      border-right-color: var(--fill-color);\n",
              "      border-top-color: var(--fill-color);\n",
              "    }\n",
              "    60% {\n",
              "      border-color: transparent;\n",
              "      border-right-color: var(--fill-color);\n",
              "    }\n",
              "    80% {\n",
              "      border-color: transparent;\n",
              "      border-right-color: var(--fill-color);\n",
              "      border-bottom-color: var(--fill-color);\n",
              "    }\n",
              "    90% {\n",
              "      border-color: transparent;\n",
              "      border-bottom-color: var(--fill-color);\n",
              "    }\n",
              "  }\n",
              "</style>\n",
              "\n",
              "  <script>\n",
              "    async function quickchart(key) {\n",
              "      const quickchartButtonEl =\n",
              "        document.querySelector('#' + key + ' button');\n",
              "      quickchartButtonEl.disabled = true;  // To prevent multiple clicks.\n",
              "      quickchartButtonEl.classList.add('colab-df-spinner');\n",
              "      try {\n",
              "        const charts = await google.colab.kernel.invokeFunction(\n",
              "            'suggestCharts', [key], {});\n",
              "      } catch (error) {\n",
              "        console.error('Error during call to suggestCharts:', error);\n",
              "      }\n",
              "      quickchartButtonEl.classList.remove('colab-df-spinner');\n",
              "      quickchartButtonEl.classList.add('colab-df-quickchart-complete');\n",
              "    }\n",
              "    (() => {\n",
              "      let quickchartButtonEl =\n",
              "        document.querySelector('#df-36cb761c-9a1a-4272-ad1f-08ea28762b7a button');\n",
              "      quickchartButtonEl.style.display =\n",
              "        google.colab.kernel.accessAllowed ? 'block' : 'none';\n",
              "    })();\n",
              "  </script>\n",
              "</div>\n",
              "    </div>\n",
              "  </div>\n"
            ],
            "application/vnd.google.colaboratory.intrinsic+json": {
              "type": "dataframe",
              "variable_name": "results",
              "summary": "{\n  \"name\": \"results\",\n  \"rows\": 5,\n  \"fields\": [\n    {\n      \"column\": \"Algorithm Name\",\n      \"properties\": {\n        \"dtype\": \"string\",\n        \"num_unique_values\": 5,\n        \"samples\": [\n          \"Naive Bayes\",\n          \"Gradient Boosting\",\n          \"C4.5\"\n        ],\n        \"semantic_type\": \"\",\n        \"description\": \"\"\n      }\n    },\n    {\n      \"column\": \"Accuracies\",\n      \"properties\": {\n        \"dtype\": \"string\",\n        \"num_unique_values\": 5,\n        \"samples\": [\n          \"87.68%\",\n          \"90.43%\",\n          \"73.54%\"\n        ],\n        \"semantic_type\": \"\",\n        \"description\": \"\"\n      }\n    }\n  ]\n}"
            }
          },
          "metadata": {},
          "execution_count": 84
        }
      ]
    },
    {
      "source": [
        "from matplotlib import pyplot as plt\n",
        "import seaborn as sns\n",
        "results.groupby('Algorithm Name').size().plot(kind='barh', color=sns.palettes.mpl_palette('Dark2'))\n",
        "plt.gca().spines[['top', 'right',]].set_visible(False)"
      ],
      "cell_type": "code",
      "execution_count": 86,
      "outputs": [
        {
          "output_type": "display_data",
          "data": {
            "text/plain": [
              "<Figure size 640x480 with 1 Axes>"
            ],
            "image/png": "[encoded data removed]"
          },
          "metadata": {}
        }
      ],
      "metadata": {
        "colab": {
          "base_uri": "https://localhost:8080/",
          "height": 430
        },
        "id": "dJI7Dd4lXMqe",
        "outputId": "8f91ca68-3ad7-46b3-f59c-3e4ff4a006a0"
      }
    },
    {
      "cell_type": "markdown",
      "source": [
        "We were certainly able to achieve our initial goal of developing a predictive model that can accurately classify patients into survivability outcomes based on a set of features derived from the SEER database. Each of our models performed relatively well with a minimum accuracy score of 73.54, maximum accuracy score of 90.43%, and four of the five algorithms having an accuracy higher than 87%. Overall, we are proud of our results."
      ],
      "metadata": {
        "id": "99reQqX2Wp0_"
      }
    }
  ],
  "metadata": {
    "kernelspec": {
      "display_name": "Python 3",
      "language": "python",
      "name": "python3"
    },
    "language_info": {
      "codemirror_mode": {
        "name": "ipython",
        "version": 3
      },
      "file_extension": ".py",
      "mimetype": "text/x-python",
      "name": "python",
      "nbconvert_exporter": "python",
      "pygments_lexer": "ipython3",
      "version": "3.10.12"
    },
    "colab": {
      "provenance": []
    }
  },
  "nbformat": 4,
  "nbformat_minor": 0
}